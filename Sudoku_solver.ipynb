{
 "cells": [
  {
   "cell_type": "markdown",
   "metadata": {},
   "source": [
    "### 1. Importing necessary libraries"
   ]
  },
  {
   "cell_type": "code",
   "execution_count": 6,
   "metadata": {},
   "outputs": [],
   "source": [
    "import numpy as np\n",
    "import copy"
   ]
  },
  {
   "cell_type": "markdown",
   "metadata": {},
   "source": [
    "### 2. Sudoku class to implement the sudoku game"
   ]
  },
  {
   "cell_type": "code",
   "execution_count": 7,
   "metadata": {},
   "outputs": [],
   "source": [
    "class Sudoku:\n",
    "    def __init__(self,board):\n",
    "        self.board = board\n",
    "        self.done = False                                        \n",
    "    def check_move(self,position,number):\n",
    "        \"\"\"Function to check whether inserting number into board at particular position is allowed\n",
    "        \"\"\"\n",
    "        x,y = position\n",
    "        seg_x = int(x/3)\n",
    "        seg_y = int(y/3)\n",
    "        if self.board[x,y]!=0:\n",
    "            return False\n",
    "        for i in range(9):\n",
    "            if i!=y and self.board[x,i] == number:\n",
    "                return False\n",
    "        for i in range(9):\n",
    "            if i!=x and self.board[i,y] == number:\n",
    "                return False\n",
    "        for i in range(9):\n",
    "            for j in range(9):\n",
    "                if seg_x==int(i/3) and seg_y==int(j/3) and i!=x and j!=y and self.board[i,j]==number:\n",
    "                    return False\n",
    "        return True\n",
    "    def move(self,position,number):\n",
    "        \"\"\"Function that allows player to insert number into an empty position in the board\"\"\"\n",
    "        if self.check_move(position,number) == True:\n",
    "            self.board[position[0],position[1]] = number\n",
    "    def display_board(self):\n",
    "        \"\"\"\n",
    "        Function to display game board itself as 2D numpy array\n",
    "        \"\"\"\n",
    "        print(self.board)\n",
    "    def find_empty_position(self,empty):\n",
    "        \"\"\"Function to find first empty postion (used as helper function in abcktracking algorithm)\"\"\"\n",
    "        for i in range(9):\n",
    "            for j in range(9):\n",
    "                if self.board[i,j]==0:\n",
    "                    empty[0]= i\n",
    "                    empty[1] =j\n",
    "                    return True\n",
    "        \n",
    "        return False\n",
    "    def solve(self):\n",
    "        \"\"\"Implementation of backtracking to solve the sudoku board \"\"\"\n",
    "        empty = [0,0]\n",
    "        \n",
    "        if self.find_empty_position(empty)==False:     \n",
    "           return True      #Terminate successfully if no more empty positions left to be filled\n",
    "           \n",
    "        x = empty[0]\n",
    "        y = empty[1]\n",
    "        \n",
    "        for i in range (1,10):\n",
    "           if self.check_move((x,y),i)==True:           \n",
    "                self.board[x,y] = i      #True if current empty position can be filled with any number\n",
    "                \n",
    "                if (self.solve()):      #recursive call to solve rest of the board\n",
    "                    return True\n",
    "                self.board[x,y]=0\n",
    "        return False                    #if no number colud be inserted return False (backtrack)"
   ]
  },
  {
   "cell_type": "markdown",
   "metadata": {},
   "source": [
    "### 3. Creating hard level sudoku puzzle question"
   ]
  },
  {
   "cell_type": "code",
   "execution_count": 8,
   "metadata": {},
   "outputs": [
    {
     "name": "stdout",
     "output_type": "stream",
     "text": [
      "Unsolved 9x9 Board :\n",
      "\n",
      "[[0. 0. 0. 0. 0. 0. 2. 0. 0.]\n",
      " [0. 8. 0. 0. 0. 7. 0. 9. 0.]\n",
      " [6. 0. 2. 0. 0. 0. 5. 0. 0.]\n",
      " [0. 7. 0. 0. 6. 0. 0. 0. 0.]\n",
      " [0. 0. 0. 9. 0. 1. 0. 0. 0.]\n",
      " [0. 0. 0. 0. 2. 0. 0. 4. 0.]\n",
      " [0. 0. 5. 0. 0. 0. 6. 0. 3.]\n",
      " [0. 9. 0. 4. 0. 0. 0. 7. 0.]\n",
      " [0. 0. 6. 0. 0. 0. 0. 0. 0.]]\n"
     ]
    }
   ],
   "source": [
    "#hard\n",
    "board = np.zeros((9,9))\n",
    "board[0,6] = 2\n",
    "board[1,1]= 8\n",
    "board[1,5]= 7\n",
    "board[1,7]= 9\n",
    "board[2,0]= 6\n",
    "board[2,2]= 2\n",
    "board[2,6]= 5\n",
    "board[3,1]= 7\n",
    "board[3,4]= 6\n",
    "board[4,3]= 9\n",
    "board[4,5]= 1\n",
    "board[5,4]= 2\n",
    "board[5,7]=4\n",
    "board[6,2]=5\n",
    "board[6,6]=6\n",
    "board[6,8]=3\n",
    "board[7,1]=9\n",
    "board[7,3]=4\n",
    "board[7,7]=7\n",
    "board[8,2]=6\n",
    "game = Sudoku(copy.deepcopy(board))\n",
    "print(\"Unsolved 9x9 Board :\\n\")\n",
    "game.display_board()"
   ]
  },
  {
   "cell_type": "markdown",
   "metadata": {},
   "source": [
    "### 4.Using Backtracking algorithm to solve the game"
   ]
  },
  {
   "cell_type": "code",
   "execution_count": 9,
   "metadata": {},
   "outputs": [
    {
     "data": {
      "text/plain": [
       "True"
      ]
     },
     "execution_count": 9,
     "metadata": {},
     "output_type": "execute_result"
    }
   ],
   "source": [
    "game.solve()"
   ]
  },
  {
   "cell_type": "markdown",
   "metadata": {},
   "source": [
    "### 5. Diplaying solved 9x9 board"
   ]
  },
  {
   "cell_type": "code",
   "execution_count": 10,
   "metadata": {},
   "outputs": [
    {
     "name": "stdout",
     "output_type": "stream",
     "text": [
      "Solved 9x9 Board :\n",
      "\n",
      "[[9. 5. 7. 6. 1. 3. 2. 8. 4.]\n",
      " [4. 8. 3. 2. 5. 7. 1. 9. 6.]\n",
      " [6. 1. 2. 8. 4. 9. 5. 3. 7.]\n",
      " [1. 7. 8. 3. 6. 4. 9. 5. 2.]\n",
      " [5. 2. 4. 9. 7. 1. 3. 6. 8.]\n",
      " [3. 6. 9. 5. 2. 8. 7. 4. 1.]\n",
      " [8. 4. 5. 7. 9. 2. 6. 1. 3.]\n",
      " [2. 9. 1. 4. 3. 6. 8. 7. 5.]\n",
      " [7. 3. 6. 1. 8. 5. 4. 2. 9.]]\n"
     ]
    }
   ],
   "source": [
    "print(\"Solved 9x9 Board :\\n\")\n",
    "game.display_board()"
   ]
  },
  {
   "cell_type": "code",
   "execution_count": null,
   "metadata": {},
   "outputs": [],
   "source": []
  }
 ],
 "metadata": {
  "kernelspec": {
   "display_name": "Python 3",
   "language": "python",
   "name": "python3"
  },
  "language_info": {
   "codemirror_mode": {
    "name": "ipython",
    "version": 3
   },
   "file_extension": ".py",
   "mimetype": "text/x-python",
   "name": "python",
   "nbconvert_exporter": "python",
   "pygments_lexer": "ipython3",
   "version": "3.6.8"
  }
 },
 "nbformat": 4,
 "nbformat_minor": 2
}
